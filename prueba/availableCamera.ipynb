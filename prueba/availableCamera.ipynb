{
 "cells": [
  {
   "cell_type": "code",
   "execution_count": 4,
   "metadata": {},
   "outputs": [
    {
     "name": "stdout",
     "output_type": "stream",
     "text": [
      "Warning: unable to open video source:  0\n",
      "Warning: unable to open video source:  1\n",
      "Warning: unable to open video source:  3\n",
      "Warning: unable to open video source:  4\n",
      "Warning: unable to open video source:  5\n"
     ]
    },
    {
     "name": "stderr",
     "output_type": "stream",
     "text": [
      "[ WARN:0@56.285] global cap_v4l.cpp:982 open VIDEOIO(V4L2:/dev/video0): can't open camera by index\n",
      "[ERROR:0@56.288] global obsensor_uvc_stream_channel.cpp:156 getStreamChannelGroup Camera index out of range\n",
      "[ WARN:0@56.288] global cap_v4l.cpp:982 open VIDEOIO(V4L2:/dev/video1): can't open camera by index\n",
      "[ERROR:0@56.292] global obsensor_uvc_stream_channel.cpp:156 getStreamChannelGroup Camera index out of range\n",
      "[ WARN:0@56.297] global cap_v4l.cpp:982 open VIDEOIO(V4L2:/dev/video3): can't open camera by index\n",
      "[ERROR:0@56.300] global obsensor_uvc_stream_channel.cpp:156 getStreamChannelGroup Camera index out of range\n",
      "[ WARN:0@56.300] global cap_v4l.cpp:982 open VIDEOIO(V4L2:/dev/video4): can't open camera by index\n",
      "[ERROR:0@56.302] global obsensor_uvc_stream_channel.cpp:156 getStreamChannelGroup Camera index out of range\n",
      "[ WARN:0@56.302] global cap_v4l.cpp:982 open VIDEOIO(V4L2:/dev/video5): can't open camera by index\n",
      "[ERROR:0@56.305] global obsensor_uvc_stream_channel.cpp:156 getStreamChannelGroup Camera index out of range\n"
     ]
    }
   ],
   "source": [
    "import open3d as op3\n",
    "\n",
    "import cv2 as cv \n",
    "\n",
    "def testDevice(source):\n",
    "   cap = cv.VideoCapture(source) \n",
    "   if cap is None or not cap.isOpened():\n",
    "       print('Warning: unable to open video source: ', source)\n",
    "\n",
    "#Maximo numero de cameras\n",
    "maxNumeroCamaras = 5\n",
    "\n",
    "for i in range (maxNumeroCamaras + 1):\n",
    "\ttestDevice(i)\n",
    "\n",
    "\n",
    "\n"
   ]
  }
 ],
 "metadata": {
  "kernelspec": {
   "display_name": "Python 3",
   "language": "python",
   "name": "python3"
  },
  "language_info": {
   "codemirror_mode": {
    "name": "ipython",
    "version": 3
   },
   "file_extension": ".py",
   "mimetype": "text/x-python",
   "name": "python",
   "nbconvert_exporter": "python",
   "pygments_lexer": "ipython3",
   "version": "3.10.6"
  },
  "orig_nbformat": 4,
  "vscode": {
   "interpreter": {
    "hash": "916dbcbb3f70747c44a77c7bcd40155683ae19c65e1c03b4aa3499c5328201f1"
   }
  }
 },
 "nbformat": 4,
 "nbformat_minor": 2
}
