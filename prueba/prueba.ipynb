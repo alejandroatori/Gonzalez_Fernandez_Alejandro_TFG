{
 "cells": [
  {
   "cell_type": "code",
   "execution_count": 7,
   "metadata": {},
   "outputs": [
    {
     "name": "stdout",
     "output_type": "stream",
     "text": [
      "PinholeCameraIntrinsic with width = 640 and height = 480.\n",
      "Access intrinsics with intrinsic_matrix.\n"
     ]
    }
   ],
   "source": [
    "# Librerias necesarias\n",
    "import open3d as o3d\n",
    "import numpy as np\n",
    "import os\n",
    "import sys\n",
    "import copy\n",
    "\n",
    "sys.path.append ('..')\n",
    "#import open3d_tutoria l as o3dtut\n",
    "\n",
    "matrix = o3d.camera.PinholeCameraIntrinsic (o3d.camera.PinholeCameraIntrinsicParameters.PrimeSenseDefault)\n",
    "\n",
    "print (matrix)\n"
   ]
  },
  {
   "attachments": {},
   "cell_type": "markdown",
   "metadata": {},
   "source": [
    "### Read RGBD Image\n",
    "The first thing is read RGBD image from camera"
   ]
  },
  {
   "cell_type": "code",
   "execution_count": 9,
   "metadata": {},
   "outputs": [],
   "source": [
    "rgbd_image = o3d.data.SampleRedwoodRGBDImages()\n",
    "\n",
    "source_color = o3d.io.read_image(rgbd_image.color_paths[0])\n",
    "source_depth = o3d.io.read_image(rgbd_image.depth_paths[0])\n",
    "\n",
    "target_color = o3d.io.read_image(rgbd_image.color_paths[4])\n",
    "target_depth = o3d.io.read_image(rgbd_image.depth_paths[4])"
   ]
  }
 ],
 "metadata": {
  "kernelspec": {
   "display_name": "Python 3",
   "language": "python",
   "name": "python3"
  },
  "language_info": {
   "codemirror_mode": {
    "name": "ipython",
    "version": 3
   },
   "file_extension": ".py",
   "mimetype": "text/x-python",
   "name": "python",
   "nbconvert_exporter": "python",
   "pygments_lexer": "ipython3",
   "version": "3.10.6"
  },
  "orig_nbformat": 4,
  "vscode": {
   "interpreter": {
    "hash": "916dbcbb3f70747c44a77c7bcd40155683ae19c65e1c03b4aa3499c5328201f1"
   }
  }
 },
 "nbformat": 4,
 "nbformat_minor": 2
}
